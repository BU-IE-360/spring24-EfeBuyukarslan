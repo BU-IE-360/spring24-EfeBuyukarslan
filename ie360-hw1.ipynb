{
 "cells": [
  {
   "cell_type": "markdown",
   "id": "ecdd9cf3-7d2f-432f-800f-a6633abbbd02",
   "metadata": {},
   "source": [
    "# Introduction\n",
    "In this homework, I selected three different data from CBRT (Central Bank of the Republic of Turkey) to work on building various time series regression models with each data and analyzing them. The data I selected are the Unemployment Rate, the Number of Debit and Credit Card Transactions on Airlines and the Total Number of Newly Established Firms. All of the data are sampled at monthly level starting from 2017 to 2022. This report includes 3 main sections corresponding to each CBRT data, as well as a conclusion part where the general results of the study are indicated. In the main sections, firstly, the time series data and relevant keyword data from Google Trends are compared to catch the relationship between them if there is any. In the second part, the time series regression model for each data is built and their analyses are done based on the residuals and some metrics such as R-squared and p-values. To put it more clearly, some of the time series data that might be correlated and could explain the target variable (selected data) are added as independent variables to the model in addition to the seasonality and trend variables. After doing that, final regression models are presented according to the ability to explain the target variable."
   ]
  },
  {
   "cell_type": "code",
   "execution_count": 36,
   "id": "994a8b3a-8abf-41dd-92a4-3e06115a887b",
   "metadata": {},
   "outputs": [
    {
     "data": {
      "text/html": [
       "<table>\n",
       "<thead><tr><th scope=col>Date</th><th scope=col>Airlines</th><th scope=col>Newly.Established.Firms</th><th scope=col>Unemployment.Rate</th><th scope=col>Capacity.Utilization.Rate</th><th scope=col>Food.Expenditure</th><th scope=col>ExchangeRate</th><th scope=col>ConsumerConfidenceIndex</th><th scope=col>Visa.Search.Volume</th></tr></thead>\n",
       "<tbody>\n",
       "\t<tr><td>2017-01 </td><td>2195602 </td><td>6275    </td><td>13.5    </td><td>77.0    </td><td>41050434</td><td>3.734886</td><td>88.38577</td><td>51      </td></tr>\n",
       "\t<tr><td>2017-02 </td><td>2329262 </td><td>5617    </td><td>12.9    </td><td>76.8    </td><td>43851345</td><td>3.672360</td><td>87.63446</td><td>47      </td></tr>\n",
       "\t<tr><td>2017-03 </td><td>3033735 </td><td>6146    </td><td>11.7    </td><td>76.7    </td><td>64670031</td><td>3.665943</td><td>89.89269</td><td>59      </td></tr>\n",
       "\t<tr><td>2017-04 </td><td>2424019 </td><td>6446    </td><td>10.5    </td><td>78.4    </td><td>52044514</td><td>3.653835</td><td>91.95329</td><td>62      </td></tr>\n",
       "\t<tr><td>2017-05 </td><td>2447179 </td><td>6250    </td><td> 9.7    </td><td>78.8    </td><td>55336929</td><td>3.563862</td><td>94.22008</td><td>56      </td></tr>\n",
       "\t<tr><td>2017-06 </td><td>3236761 </td><td>6039    </td><td>10.4    </td><td>79.0    </td><td>54304758</td><td>3.518990</td><td>92.67385</td><td>55      </td></tr>\n",
       "</tbody>\n",
       "</table>\n"
      ],
      "text/latex": [
       "\\begin{tabular}{r|lllllllll}\n",
       " Date & Airlines & Newly.Established.Firms & Unemployment.Rate & Capacity.Utilization.Rate & Food.Expenditure & ExchangeRate & ConsumerConfidenceIndex & Visa.Search.Volume\\\\\n",
       "\\hline\n",
       "\t 2017-01  & 2195602  & 6275     & 13.5     & 77.0     & 41050434 & 3.734886 & 88.38577 & 51      \\\\\n",
       "\t 2017-02  & 2329262  & 5617     & 12.9     & 76.8     & 43851345 & 3.672360 & 87.63446 & 47      \\\\\n",
       "\t 2017-03  & 3033735  & 6146     & 11.7     & 76.7     & 64670031 & 3.665943 & 89.89269 & 59      \\\\\n",
       "\t 2017-04  & 2424019  & 6446     & 10.5     & 78.4     & 52044514 & 3.653835 & 91.95329 & 62      \\\\\n",
       "\t 2017-05  & 2447179  & 6250     &  9.7     & 78.8     & 55336929 & 3.563862 & 94.22008 & 56      \\\\\n",
       "\t 2017-06  & 3236761  & 6039     & 10.4     & 79.0     & 54304758 & 3.518990 & 92.67385 & 55      \\\\\n",
       "\\end{tabular}\n"
      ],
      "text/markdown": [
       "\n",
       "| Date | Airlines | Newly.Established.Firms | Unemployment.Rate | Capacity.Utilization.Rate | Food.Expenditure | ExchangeRate | ConsumerConfidenceIndex | Visa.Search.Volume |\n",
       "|---|---|---|---|---|---|---|---|---|\n",
       "| 2017-01  | 2195602  | 6275     | 13.5     | 77.0     | 41050434 | 3.734886 | 88.38577 | 51       |\n",
       "| 2017-02  | 2329262  | 5617     | 12.9     | 76.8     | 43851345 | 3.672360 | 87.63446 | 47       |\n",
       "| 2017-03  | 3033735  | 6146     | 11.7     | 76.7     | 64670031 | 3.665943 | 89.89269 | 59       |\n",
       "| 2017-04  | 2424019  | 6446     | 10.5     | 78.4     | 52044514 | 3.653835 | 91.95329 | 62       |\n",
       "| 2017-05  | 2447179  | 6250     |  9.7     | 78.8     | 55336929 | 3.563862 | 94.22008 | 56       |\n",
       "| 2017-06  | 3236761  | 6039     | 10.4     | 79.0     | 54304758 | 3.518990 | 92.67385 | 55       |\n",
       "\n"
      ],
      "text/plain": [
       "  Date    Airlines Newly.Established.Firms Unemployment.Rate\n",
       "1 2017-01 2195602  6275                    13.5             \n",
       "2 2017-02 2329262  5617                    12.9             \n",
       "3 2017-03 3033735  6146                    11.7             \n",
       "4 2017-04 2424019  6446                    10.5             \n",
       "5 2017-05 2447179  6250                     9.7             \n",
       "6 2017-06 3236761  6039                    10.4             \n",
       "  Capacity.Utilization.Rate Food.Expenditure ExchangeRate\n",
       "1 77.0                      41050434         3.734886    \n",
       "2 76.8                      43851345         3.672360    \n",
       "3 76.7                      64670031         3.665943    \n",
       "4 78.4                      52044514         3.653835    \n",
       "5 78.8                      55336929         3.563862    \n",
       "6 79.0                      54304758         3.518990    \n",
       "  ConsumerConfidenceIndex Visa.Search.Volume\n",
       "1 88.38577                51                \n",
       "2 87.63446                47                \n",
       "3 89.89269                59                \n",
       "4 91.95329                62                \n",
       "5 94.22008                56                \n",
       "6 92.67385                55                "
      ]
     },
     "metadata": {},
     "output_type": "display_data"
    }
   ],
   "source": [
    "\n",
    "library(forecast)\n",
    "library(dplyr)\n",
    "library(data.table)\n",
    "library(gridExtra)\n",
    "\n",
    "\n",
    "\n",
    "setwd(\"C:/Users/efe_b/Desktop/IE360/HW1/data\")\n",
    "\n",
    "data = read_excel(\"unemployment-airline-newfirm.xlsx\")\n",
    "unem_data = data$`Unemployment Rate`\n",
    "newfirm_data = data$`Newly Established Firms`\n",
    "airline_data = data$Airlines\n",
    "date_data = data$`Date`\n",
    "data = data.frame(data)\n",
    "head(data)"
   ]
  },
  {
   "cell_type": "code",
   "execution_count": 37,
   "id": "a257e882-937d-4954-a8d9-7b8ad1bb21ad",
   "metadata": {},
   "outputs": [
    {
     "data": {
      "text/html": [
       "-0.401012667847996"
      ],
      "text/latex": [
       "-0.401012667847996"
      ],
      "text/markdown": [
       "-0.401012667847996"
      ],
      "text/plain": [
       "[1] -0.4010127"
      ]
     },
     "metadata": {},
     "output_type": "display_data"
    },
    {
     "data": {
      "text/html": [
       "0.0906562957272096"
      ],
      "text/latex": [
       "0.0906562957272096"
      ],
      "text/markdown": [
       "0.0906562957272096"
      ],
      "text/plain": [
       "[1] 0.0906563"
      ]
     },
     "metadata": {},
     "output_type": "display_data"
    },
    {
     "data": {
      "text/html": [
       "-0.173260030718759"
      ],
      "text/latex": [
       "-0.173260030718759"
      ],
      "text/markdown": [
       "-0.173260030718759"
      ],
      "text/plain": [
       "[1] -0.17326"
      ]
     },
     "metadata": {},
     "output_type": "display_data"
    }
   ],
   "source": [
    "#Pairwise Correlations\n",
    "cor(unem_data, airline_data)\n",
    "cor(newfirm_data, airline_data)\n",
    "cor(unem_data, newfirm_data)"
   ]
  },
  {
   "cell_type": "markdown",
   "id": "fa623333-7767-473f-b724-36ee991fcd20",
   "metadata": {},
   "source": [
    "#### Pairwise Correlation\n",
    "1. Correlation between unemployment and the number of total debit and credit card transactions on airlines data: -0.4010127\n",
    "2. Correlation between the total number of newly established firms and the number of total debit and credit card transactions on airlines data: 0.0906563\n",
    "3. Correlation between unemployment and the total number of newly established firms data: -0.17326\n",
    "\n",
    "Before starting data manipulation and visualization, it is checked whether the selected data have a pairwise correlation higher than 0.5 or not. Apparently, there is no significant correlation between them."
   ]
  },
  {
   "cell_type": "code",
   "execution_count": 38,
   "id": "0c228c61-24a7-49ef-9958-f84780225621",
   "metadata": {},
   "outputs": [],
   "source": [
    "#Date Information in Date Format\n",
    "date_data = as.Date(paste(date_data, \"-01\", sep=\"\"))\n",
    "#Defining independent categorical variable(predictor) for Covid period\n",
    "data$covid <- 0\n",
    "start_date <- as.Date(\"2020-03-01\")\n",
    "end_date <- as.Date(\"2021-06-01\")\n",
    "#Defining condition for Covid period\n",
    "condition <- date_data >= start_date & date_data < end_date\n",
    "data$covid[condition] <- 1\n",
    "data$covid[!condition] <- 0\n",
    "#The Independent Variables Used In Time Series Regression Models in the following parts\n",
    "exchangerate_data = data$ExchangeRate\n",
    "consumerconfidenceindex_data = data$ConsumerConfidenceIndex\n",
    "capacityutilization_data = data$Capacity.Utilization.Rate\n",
    "foodexpenditure_data = data$Food.Expenditure\n",
    "visadata = data$Visa.Search.Volume\n",
    "#Adding trend variable\n",
    "data$trend = 1:dim(data)[1]\n",
    "#Adding monthly seasonality / categorical predictor for months\n",
    "month = 1:12\n",
    "data <- cbind(data,month)\n",
    "#Gereklimiiiiiiiiiiiiiiiiiiiiiiiiiii\n",
    "data$year = year(date_data)"
   ]
  },
  {
   "cell_type": "markdown",
   "id": "904c29dd-162c-4231-aac9-8d97ebaffb57",
   "metadata": {},
   "source": [
    "## Unemployment Rate Model\n",
    "1. Part 1 - Data Manipulation and Visualization\n",
    "\n",
    "In the first model, the relationship between the unemployment rate and the data acquired from career websites/platforms is investigated. The main motivation behind this relationship is to observe the same patterns in unemployment data when some shifts occur in user engagement and searches on career platforms. In other words, it is expected that when the unemployment rate increases, people's interaction on career platforms also increases or vice versa. Based on this assumption, I determined the keyword \"İşkur\" which is an establishment where people may look for jobs with suitable qualifications, and fetched its search volume data from Google Trends for the same period with monthly samples (2017-2022). After that, I plotted this data with the unemployment data to understand whether there is a significant relationship between them.\n",
    "Here is my research question and the keyword determined.\n",
    "\n",
    "Research Question: Is there a relationship between  career websites/platforms and unemployment? Do the fluctuations on these platforms tell us something about unemployment numbers?\n",
    "\n",
    "Keyword: İşkur"
   ]
  },
  {
   "cell_type": "code",
   "execution_count": 39,
   "id": "84e5d7f2-8f83-4640-bdce-8e4afd83d667",
   "metadata": {},
   "outputs": [
    {
     "data": {
      "image/png": "[encoded data removed]",
      "text/plain": [
       "Plot with title \"Unemployment Time Series Plot\""
      ]
     },
     "metadata": {},
     "output_type": "display_data"
    }
   ],
   "source": [
    "# Plotting the Unemployment Rate Data\n",
    "plot(date_data, unem_data, type = \"l\", xlab = \"Date\", ylab = \"Value\", main = \"Unemployment Time Series Plot\")\n",
    "#İşkur Search Volume Data\n",
    "iskur_excel_data = \"iskursearchvolume.csv\"\n",
    "searchvolumeiskur = fread(iskur_excel_data)\n",
    "searchvolumeiskur$Date = as.Date(paste(searchvolumeiskur$Date, \"-01\", sep=\"\"))\n",
    "iskurdata = searchvolumeiskur$IskurSearchVolume"
   ]
  },
  {
   "cell_type": "code",
   "execution_count": 40,
   "id": "6bf989bc-f093-4d83-9202-00dd56667cba",
   "metadata": {},
   "outputs": [
    {
     "name": "stdout",
     "output_type": "stream",
     "text": [
      "The correlation between İskur search volume data and unemployment rate data: 0.4012513"
     ]
    },
    {
     "data": {
      "image/png": "[encoded data removed]",
      "text/plain": [
       "plot without title"
      ]
     },
     "metadata": {},
     "output_type": "display_data"
    }
   ],
   "source": [
    "#Correlation Between İşkur Search Volume Data and Unemployment Rate Data\n",
    "cat(\"The correlation between İskur search volume data and unemployment rate data:\", cor(iskurdata ,unem_data))\n",
    "plot1 <- ggplot(data, aes(x = date_data, y = unem_data)) + geom_line() + labs(title = \"Unemployment Data\", x = \"Date\", y = \"Unemployment Rate\")\n",
    "plot2 <- ggplot(data, aes(x = date_data, y = iskurdata)) + geom_line(color = \"red\") +  labs(title = \"Iskur Search Volume Data\", x = \"Date\", y = \"Search Volume\")\n",
    "grid.arrange(plot1, plot2, ncol = 1)"
   ]
  },
  {
   "cell_type": "markdown",
   "id": "438e03d0-aec2-4db1-8144-9b2e336ab6f8",
   "metadata": {},
   "source": [
    "After the correlation between these data is calculated, it is found that they have a reasonable correlation as expected. When the plots are compared, it is seen that some of the fluctuations, movements, and jumps that occurred at the same time resemble each other. For instance, the decrease in both data at the beginning of the year 2019 and the fluctuations in the year 2022 look very similar. In addition to that, the fluctuations generally follow a similar pattern, especially in the years 2017, 2018, and 2022. This similarity shows us that there is a relation between these two data and also a positive correlation despite some differences."
   ]
  },
  {
   "cell_type": "markdown",
   "id": "4d9cabde-0669-4f5d-9447-6329c37ef0e9",
   "metadata": {},
   "source": [
    "2. Part 2 - Time Series Regression Analysis\n",
    "\n",
    "   In the second part, to build a time series regression model for the unemployment rate, some data/independent variables that might be related or might explain some portion of the unemployment rate data are introduced. Before starting to build various models with the combination of these variables, the pairwise correlation between the unemployment data and other data that are going to be used as independent variables. The purpose of performing this step is to get an early idea of how the independent variables relate to the data and whether they are very irrelevant or very relevant beforehand. Then, the combination of these independent variables is tried to build a better model in terms of explaining the unemployment rate without violating simple linear regression assumptions.\n",
    "   The independent variables used to model the unemployment rate are \"Trend\", \"Seasonality (Monthly)\", \"Capacity Utilization Rate of the Manufacturing Industry\", \"The Total Number of Debit Card and Credit Card Transactions on Food\", \"İşkur Search Volume\", \"Exchange Rate (Dollar/TL)\", \"Consumer Confidence Index\" and categorical Covid variable. To explain the reason for using these variables without going deeply, it is thought that in the cases where the capacity utilization rate of the manufacturing industry is low, a high unemployment rate may arise because blue-collar workers may become unemployed. It is not a certain relation but it might be useful in the modelling. For the expenditures on food, there might be a decrease in expenditure on food with the increase in the unemployment rate since the unemployed people will spend less. Thus, a negative correlation is anticipated. The İşkur Search Volume is already mentioned previously. As another variable, the exchange rate might also affect the unemployment rate. It can be put forward that as the exchange rates vary or increase, then local employers or business owners might think of downsizing which increases the unemployment rate. The other variables used are Consumer Confidence Index and Covid. Since the Covid-pandemic era witnessed lots of changes in all economic and business dynamics, it could be better to take into account those values separately. When we come to the last variable, Consumer Confidence Index is related to consumers'' behaviors and tendency to spend money. Even though it is a much more complicated relationship, it is expected that the consumer confidence index and unemployment rate have a negative correlation."
   ]
  },
  {
   "cell_type": "code",
   "execution_count": 41,
   "id": "128b3061-cd84-4cf6-b1ce-3651f3540d1b",
   "metadata": {},
   "outputs": [
    {
     "data": {
      "text/html": [
       "-0.465649932853663"
      ],
      "text/latex": [
       "-0.465649932853663"
      ],
      "text/markdown": [
       "-0.465649932853663"
      ],
      "text/plain": [
       "[1] -0.4656499"
      ]
     },
     "metadata": {},
     "output_type": "display_data"
    },
    {
     "data": {
      "text/html": [
       "-0.36013304172377"
      ],
      "text/latex": [
       "-0.36013304172377"
      ],
      "text/markdown": [
       "-0.36013304172377"
      ],
      "text/plain": [
       "[1] -0.360133"
      ]
     },
     "metadata": {},
     "output_type": "display_data"
    },
    {
     "data": {
      "text/html": [
       "-0.298387454309846"
      ],
      "text/latex": [
       "-0.298387454309846"
      ],
      "text/markdown": [
       "-0.298387454309846"
      ],
      "text/plain": [
       "[1] -0.2983875"
      ]
     },
     "metadata": {},
     "output_type": "display_data"
    },
    {
     "data": {
      "text/html": [
       "-0.117807110824284"
      ],
      "text/latex": [
       "-0.117807110824284"
      ],
      "text/markdown": [
       "-0.117807110824284"
      ],
      "text/plain": [
       "[1] -0.1178071"
      ]
     },
     "metadata": {},
     "output_type": "display_data"
    }
   ],
   "source": [
    "cor(unem_data, capacityutilization_data)\n",
    "cor(unem_data, foodexpenditure_data)\n",
    "cor(unem_data, exchangerate_data)\n",
    "cor(unem_data, consumerconfidenceindex_data)\n"
   ]
  },
  {
   "cell_type": "markdown",
   "id": "0342fdf4-ff37-4de2-a851-386551c878c1",
   "metadata": {},
   "source": [
    "The correlation between capacity utilization data and unemployment rate data: -0.465649\n",
    "\n",
    "The correlation between food expenditure data and unemployment rate data: -0.360133\n",
    "\n",
    "The correlation between exchange rate data and unemployment rate data: -0.298387\n",
    "\n",
    "The correlation between consumer confidence index data and unemployment rate data: -0.117807"
   ]
  },
  {
   "cell_type": "code",
   "execution_count": 42,
   "id": "c38eafd3-6d11-4c9b-a3ff-7fa1a521f53b",
   "metadata": {},
   "outputs": [
    {
     "data": {
      "text/plain": [
       "\n",
       "Call:\n",
       "lm(formula = unem_data ~ trend, data = data)\n",
       "\n",
       "Residuals:\n",
       "    Min      1Q  Median      3Q     Max \n",
       "-2.5967 -1.4067 -0.0381  1.1419  3.2152 \n",
       "\n",
       "Coefficients:\n",
       "             Estimate Std. Error t value Pr(>|t|)    \n",
       "(Intercept) 11.918036   0.371042  32.120   <2e-16 ***\n",
       "trend       -0.001331   0.008834  -0.151    0.881    \n",
       "---\n",
       "Signif. codes:  0 '***' 0.001 '**' 0.01 '*' 0.05 '.' 0.1 ' ' 1\n",
       "\n",
       "Residual standard error: 1.558 on 70 degrees of freedom\n",
       "Multiple R-squared:  0.0003243,\tAdjusted R-squared:  -0.01396 \n",
       "F-statistic: 0.02271 on 1 and 70 DF,  p-value: 0.8806\n"
      ]
     },
     "metadata": {},
     "output_type": "display_data"
    },
    {
     "data": {
      "text/plain": [
       "\n",
       "Call:\n",
       "lm(formula = unem_data ~ trend + as.factor(data$month), data = data)\n",
       "\n",
       "Residuals:\n",
       "   Min     1Q Median     3Q    Max \n",
       "-2.324 -1.201 -0.075  1.317  2.475 \n",
       "\n",
       "Coefficients:\n",
       "                         Estimate Std. Error t value Pr(>|t|)    \n",
       "(Intercept)             13.154484   0.689932  19.066   <2e-16 ***\n",
       "trend                    0.001468   0.008906   0.165   0.8696    \n",
       "as.factor(data$month)2  -0.251468   0.894224  -0.281   0.7795    \n",
       "as.factor(data$month)3  -1.052937   0.894357  -1.177   0.2438    \n",
       "as.factor(data$month)4  -1.704405   0.894578  -1.905   0.0616 .  \n",
       "as.factor(data$month)5  -2.089206   0.894889  -2.335   0.0230 *  \n",
       "as.factor(data$month)6  -2.024008   0.895287  -2.261   0.0275 *  \n",
       "as.factor(data$month)7  -1.092143   0.895774  -1.219   0.2276    \n",
       "as.factor(data$month)8  -1.426944   0.896350  -1.592   0.1167    \n",
       "as.factor(data$month)9  -1.678413   0.897013  -1.871   0.0663 .  \n",
       "as.factor(data$month)10 -1.729881   0.897765  -1.927   0.0588 .  \n",
       "as.factor(data$month)11 -1.781349   0.898604  -1.982   0.0521 .  \n",
       "as.factor(data$month)12 -1.232817   0.899530  -1.371   0.1757    \n",
       "---\n",
       "Signif. codes:  0 '***' 0.001 '**' 0.01 '*' 0.05 '.' 0.1 ' ' 1\n",
       "\n",
       "Residual standard error: 1.549 on 59 degrees of freedom\n",
       "Multiple R-squared:  0.1672,\tAdjusted R-squared:  -0.002193 \n",
       "F-statistic: 0.9871 on 12 and 59 DF,  p-value: 0.4719\n"
      ]
     },
     "metadata": {},
     "output_type": "display_data"
    },
    {
     "data": {
      "text/plain": [
       "\n",
       "Call:\n",
       "lm(formula = unem_data ~ capacityutilization_data, data = data)\n",
       "\n",
       "Residuals:\n",
       "    Min      1Q  Median      3Q     Max \n",
       "-2.3890 -0.9283 -0.3315  0.9808  2.8307 \n",
       "\n",
       "Coefficients:\n",
       "                         Estimate Std. Error t value Pr(>|t|)    \n",
       "(Intercept)              29.24019    3.94917   7.404 2.28e-10 ***\n",
       "capacityutilization_data -0.22810    0.05181  -4.402 3.76e-05 ***\n",
       "---\n",
       "Signif. codes:  0 '***' 0.001 '**' 0.01 '*' 0.05 '.' 0.1 ' ' 1\n",
       "\n",
       "Residual standard error: 1.379 on 70 degrees of freedom\n",
       "Multiple R-squared:  0.2168,\tAdjusted R-squared:  0.2056 \n",
       "F-statistic: 19.38 on 1 and 70 DF,  p-value: 3.76e-05\n"
      ]
     },
     "metadata": {},
     "output_type": "display_data"
    },
    {
     "data": {
      "text/plain": [
       "\n",
       "Call:\n",
       "lm(formula = unem_data ~ foodexpenditure_data, data = data)\n",
       "\n",
       "Residuals:\n",
       "     Min       1Q   Median       3Q      Max \n",
       "-2.79101 -1.23682  0.04519  0.96705  2.95872 \n",
       "\n",
       "Coefficients:\n",
       "                       Estimate Std. Error t value Pr(>|t|)    \n",
       "(Intercept)           1.316e+01  4.353e-01   30.23  < 2e-16 ***\n",
       "foodexpenditure_data -1.564e-08  4.844e-09   -3.23  0.00189 ** \n",
       "---\n",
       "Signif. codes:  0 '***' 0.001 '**' 0.01 '*' 0.05 '.' 0.1 ' ' 1\n",
       "\n",
       "Residual standard error: 1.454 on 70 degrees of freedom\n",
       "Multiple R-squared:  0.1297,\tAdjusted R-squared:  0.1173 \n",
       "F-statistic: 10.43 on 1 and 70 DF,  p-value: 0.001888\n"
      ]
     },
     "metadata": {},
     "output_type": "display_data"
    },
    {
     "data": {
      "text/plain": [
       "\n",
       "Call:\n",
       "lm(formula = unem_data ~ exchangerate_data, data = data)\n",
       "\n",
       "Residuals:\n",
       "    Min      1Q  Median      3Q     Max \n",
       "-2.9545 -1.0713  0.1737  1.0907  2.9825 \n",
       "\n",
       "Coefficients:\n",
       "                  Estimate Std. Error t value Pr(>|t|)    \n",
       "(Intercept)       12.67659    0.35488  35.721   <2e-16 ***\n",
       "exchangerate_data -0.10412    0.03981  -2.616   0.0109 *  \n",
       "---\n",
       "Signif. codes:  0 '***' 0.001 '**' 0.01 '*' 0.05 '.' 0.1 ' ' 1\n",
       "\n",
       "Residual standard error: 1.487 on 70 degrees of freedom\n",
       "Multiple R-squared:  0.08904,\tAdjusted R-squared:  0.07602 \n",
       "F-statistic: 6.842 on 1 and 70 DF,  p-value: 0.0109\n"
      ]
     },
     "metadata": {},
     "output_type": "display_data"
    },
    {
     "data": {
      "text/plain": [
       "\n",
       "Call:\n",
       "lm(formula = unem_data ~ consumerconfidenceindex_data, data = data)\n",
       "\n",
       "Residuals:\n",
       "    Min      1Q  Median      3Q     Max \n",
       "-2.6218 -1.2517  0.0241  1.1694  3.1941 \n",
       "\n",
       "Coefficients:\n",
       "                             Estimate Std. Error t value Pr(>|t|)    \n",
       "(Intercept)                  13.90053    2.05442   6.766 3.32e-09 ***\n",
       "consumerconfidenceindex_data -0.02490    0.02508  -0.993    0.324    \n",
       "---\n",
       "Signif. codes:  0 '***' 0.001 '**' 0.01 '*' 0.05 '.' 0.1 ' ' 1\n",
       "\n",
       "Residual standard error: 1.547 on 70 degrees of freedom\n",
       "Multiple R-squared:  0.01388,\tAdjusted R-squared:  -0.0002089 \n",
       "F-statistic: 0.9852 on 1 and 70 DF,  p-value: 0.3243\n"
      ]
     },
     "metadata": {},
     "output_type": "display_data"
    },
    {
     "data": {
      "text/plain": [
       "\n",
       "Call:\n",
       "lm(formula = unem_data ~ capacityutilization_data + data$trend + \n",
       "    as.factor(data$month) + consumerconfidenceindex_data, data = data)\n",
       "\n",
       "Residuals:\n",
       "    Min      1Q  Median      3Q     Max \n",
       "-2.2243 -0.8698 -0.2123  0.9308  2.2299 \n",
       "\n",
       "Coefficients:\n",
       "                             Estimate Std. Error t value Pr(>|t|)    \n",
       "(Intercept)                  42.31310    5.12340   8.259 2.56e-11 ***\n",
       "capacityutilization_data     -0.26226    0.04887  -5.366 1.53e-06 ***\n",
       "data$trend                   -0.03353    0.01295  -2.590  0.01217 *  \n",
       "as.factor(data$month)2       -0.36941    0.71436  -0.517  0.60708    \n",
       "as.factor(data$month)3       -0.97598    0.71661  -1.362  0.17857    \n",
       "as.factor(data$month)4       -2.20412    0.72060  -3.059  0.00338 ** \n",
       "as.factor(data$month)5       -2.46881    0.71800  -3.438  0.00110 ** \n",
       "as.factor(data$month)6       -2.08990    0.71553  -2.921  0.00500 ** \n",
       "as.factor(data$month)7       -0.92210    0.71762  -1.285  0.20401    \n",
       "as.factor(data$month)8       -1.16379    0.71771  -1.622  0.11042    \n",
       "as.factor(data$month)9       -1.44673    0.71740  -2.017  0.04845 *  \n",
       "as.factor(data$month)10      -1.53100    0.71816  -2.132  0.03734 *  \n",
       "as.factor(data$month)11      -1.63884    0.71877  -2.280  0.02636 *  \n",
       "as.factor(data$month)12      -1.14554    0.72048  -1.590  0.11737    \n",
       "consumerconfidenceindex_data -0.09707    0.03708  -2.618  0.01131 *  \n",
       "---\n",
       "Signif. codes:  0 '***' 0.001 '**' 0.01 '*' 0.05 '.' 0.1 ' ' 1\n",
       "\n",
       "Residual standard error: 1.237 on 57 degrees of freedom\n",
       "Multiple R-squared:  0.487,\tAdjusted R-squared:  0.361 \n",
       "F-statistic: 3.865 on 14 and 57 DF,  p-value: 0.0001359\n"
      ]
     },
     "metadata": {},
     "output_type": "display_data"
    },
    {
     "data": {
      "text/plain": [
       "\n",
       "Call:\n",
       "lm(formula = unem_data ~ exchangerate_data + data$trend + as.factor(data$month) + \n",
       "    consumerconfidenceindex_data, data = data)\n",
       "\n",
       "Residuals:\n",
       "    Min      1Q  Median      3Q     Max \n",
       "-1.8798 -0.6342  0.0268  0.7962  1.7372 \n",
       "\n",
       "Coefficients:\n",
       "                             Estimate Std. Error t value Pr(>|t|)    \n",
       "(Intercept)                  27.76391    2.92861   9.480 2.56e-13 ***\n",
       "exchangerate_data            -0.49219    0.05914  -8.322 2.01e-11 ***\n",
       "data$trend                    0.04798    0.01388   3.457  0.00104 ** \n",
       "as.factor(data$month)2       -0.42324    0.58895  -0.719  0.47530    \n",
       "as.factor(data$month)3       -0.84921    0.59064  -1.438  0.15596    \n",
       "as.factor(data$month)4       -1.68609    0.58885  -2.863  0.00586 ** \n",
       "as.factor(data$month)5       -2.03229    0.58909  -3.450  0.00106 ** \n",
       "as.factor(data$month)6       -1.85309    0.58971  -3.142  0.00266 ** \n",
       "as.factor(data$month)7       -0.81561    0.59173  -1.378  0.17348    \n",
       "as.factor(data$month)8       -1.14785    0.59151  -1.941  0.05727 .  \n",
       "as.factor(data$month)9       -1.53853    0.59066  -2.605  0.01170 *  \n",
       "as.factor(data$month)10      -1.67320    0.59107  -2.831  0.00640 ** \n",
       "as.factor(data$month)11      -1.76100    0.59179  -2.976  0.00428 ** \n",
       "as.factor(data$month)12      -1.16766    0.59350  -1.967  0.05401 .  \n",
       "consumerconfidenceindex_data -0.15426    0.03135  -4.921 7.70e-06 ***\n",
       "---\n",
       "Signif. codes:  0 '***' 0.001 '**' 0.01 '*' 0.05 '.' 0.1 ' ' 1\n",
       "\n",
       "Residual standard error: 1.019 on 57 degrees of freedom\n",
       "Multiple R-squared:  0.6514,\tAdjusted R-squared:  0.5658 \n",
       "F-statistic: 7.608 on 14 and 57 DF,  p-value: 1.143e-08\n"
      ]
     },
     "metadata": {},
     "output_type": "display_data"
    },
    {
     "data": {
      "text/plain": [
       "\n",
       "Call:\n",
       "lm(formula = unem_data ~ exchangerate_data + data$trend + as.factor(data$month) + \n",
       "    foodexpenditure_data, data = data)\n",
       "\n",
       "Residuals:\n",
       "     Min       1Q   Median       3Q      Max \n",
       "-1.92503 -0.78918  0.01475  0.60944  2.09193 \n",
       "\n",
       "Coefficients:\n",
       "                          Estimate Std. Error t value Pr(>|t|)    \n",
       "(Intercept)              1.394e+01  5.701e-01  24.449  < 2e-16 ***\n",
       "exchangerate_data       -3.195e-01  8.724e-02  -3.663 0.000548 ***\n",
       "data$trend               7.809e-02  1.416e-02   5.515 8.82e-07 ***\n",
       "as.factor(data$month)2  -3.761e-01  6.813e-01  -0.552 0.583080    \n",
       "as.factor(data$month)3  -9.496e-01  6.847e-01  -1.387 0.170857    \n",
       "as.factor(data$month)4  -1.751e+00  6.817e-01  -2.569 0.012851 *  \n",
       "as.factor(data$month)5  -2.162e+00  6.848e-01  -3.157 0.002548 ** \n",
       "as.factor(data$month)6  -1.917e+00  6.821e-01  -2.810 0.006779 ** \n",
       "as.factor(data$month)7  -8.829e-01  6.883e-01  -1.283 0.204797    \n",
       "as.factor(data$month)8  -1.281e+00  6.836e-01  -1.874 0.066098 .  \n",
       "as.factor(data$month)9  -1.417e+00  6.891e-01  -2.057 0.044322 *  \n",
       "as.factor(data$month)10 -1.446e+00  6.917e-01  -2.091 0.040984 *  \n",
       "as.factor(data$month)11 -1.521e+00  6.901e-01  -2.204 0.031579 *  \n",
       "as.factor(data$month)12 -8.343e-01  6.928e-01  -1.204 0.233495    \n",
       "foodexpenditure_data    -1.489e-08  7.759e-09  -1.919 0.059984 .  \n",
       "---\n",
       "Signif. codes:  0 '***' 0.001 '**' 0.01 '*' 0.05 '.' 0.1 ' ' 1\n",
       "\n",
       "Residual standard error: 1.179 on 57 degrees of freedom\n",
       "Multiple R-squared:  0.5334,\tAdjusted R-squared:  0.4188 \n",
       "F-statistic: 4.655 on 14 and 57 DF,  p-value: 1.506e-05\n"
      ]
     },
     "metadata": {},
     "output_type": "display_data"
    },
    {
     "data": {
      "text/plain": [
       "\n",
       "Call:\n",
       "lm(formula = unem_data ~ capacityutilization_data + data$trend + \n",
       "    as.factor(data$month) + foodexpenditure_data, data = data)\n",
       "\n",
       "Residuals:\n",
       "    Min      1Q  Median      3Q     Max \n",
       "-2.0026 -0.7669 -0.1030  0.6127  2.4413 \n",
       "\n",
       "Coefficients:\n",
       "                           Estimate Std. Error t value Pr(>|t|)    \n",
       "(Intercept)               2.645e+01  4.642e+00   5.697 4.49e-07 ***\n",
       "capacityutilization_data -1.632e-01  6.178e-02  -2.642  0.01061 *  \n",
       "data$trend                2.118e-02  1.250e-02   1.694  0.09565 .  \n",
       "as.factor(data$month)2   -3.728e-01  7.147e-01  -0.522  0.60396    \n",
       "as.factor(data$month)3   -9.246e-01  7.188e-01  -1.286  0.20352    \n",
       "as.factor(data$month)4   -2.089e+00  7.224e-01  -2.892  0.00541 ** \n",
       "as.factor(data$month)5   -2.481e+00  7.183e-01  -3.453  0.00105 ** \n",
       "as.factor(data$month)6   -2.028e+00  7.169e-01  -2.829  0.00644 ** \n",
       "as.factor(data$month)7   -8.252e-01  7.219e-01  -1.143  0.25776    \n",
       "as.factor(data$month)8   -1.217e+00  7.170e-01  -1.697  0.09518 .  \n",
       "as.factor(data$month)9   -1.281e+00  7.213e-01  -1.775  0.08118 .  \n",
       "as.factor(data$month)10  -1.286e+00  7.234e-01  -1.778  0.08073 .  \n",
       "as.factor(data$month)11  -1.395e+00  7.225e-01  -1.930  0.05855 .  \n",
       "as.factor(data$month)12  -7.764e-01  7.264e-01  -1.069  0.28961    \n",
       "foodexpenditure_data     -2.051e-08  7.864e-09  -2.608  0.01162 *  \n",
       "---\n",
       "Signif. codes:  0 '***' 0.001 '**' 0.01 '*' 0.05 '.' 0.1 ' ' 1\n",
       "\n",
       "Residual standard error: 1.237 on 57 degrees of freedom\n",
       "Multiple R-squared:  0.4865,\tAdjusted R-squared:  0.3604 \n",
       "F-statistic: 3.858 on 14 and 57 DF,  p-value: 0.0001386\n"
      ]
     },
     "metadata": {},
     "output_type": "display_data"
    }
   ],
   "source": [
    "fit_trend <- lm(unem_data~trend,data = data)\n",
    "summary(fit_trend)\n",
    "fit_trend_seasonality <- lm(unem_data~trend+as.factor(data$month),data = data)\n",
    "summary(fit_trend_seasonality)\n",
    "fit_capacity <- lm(unem_data~capacityutilization_data,data = data)\n",
    "summary(fit_capacity)\n",
    "fit_foodexpenditure <- lm(unem_data~foodexpenditure_data,data = data)\n",
    "summary(fit_foodexpenditure)\n",
    "fit_exchangerate <- lm(unem_data~exchangerate_data,data = data)\n",
    "summary(fit_exchangerate)\n",
    "fit_cci <- lm(unem_data~consumerconfidenceindex_data,data = data)\n",
    "summary(fit_cci)\n",
    "fit_combined <- lm(unem_data~capacityutilization_data+data$trend+as.factor(data$month)+consumerconfidenceindex_data,data = data)\n",
    "summary(fit_combined)\n",
    "fit_combined2 <- lm(unem_data~exchangerate_data+data$trend+as.factor(data$month)+consumerconfidenceindex_data,data = data)\n",
    "summary(fit_combined2)\n",
    "fit_combined3 <- lm(unem_data~exchangerate_data+data$trend+as.factor(data$month)+foodexpenditure_data,data = data)\n",
    "summary(fit_combined3)\n",
    "fit_combined4 <- lm(unem_data~capacityutilization_data+data$trend+as.factor(data$month)+foodexpenditure_data,data = data)\n",
    "summary(fit_combined4)"
   ]
  },
  {
   "cell_type": "code",
   "execution_count": 43,
   "id": "67982629-365a-49f6-a37f-81c53813148c",
   "metadata": {},
   "outputs": [
    {
     "data": {
      "text/plain": [
       "\n",
       "Call:\n",
       "lm(formula = unem_data ~ iskurdata + exchangerate_data + capacityutilization_data + \n",
       "    foodexpenditure_data + as.factor(data$month) + as.factor(data$covid) + \n",
       "    consumerconfidenceindex_data, data = data)\n",
       "\n",
       "Residuals:\n",
       "     Min       1Q   Median       3Q      Max \n",
       "-1.45713 -0.57262 -0.01791  0.51391  1.50803 \n",
       "\n",
       "Coefficients:\n",
       "                               Estimate Std. Error t value Pr(>|t|)    \n",
       "(Intercept)                   3.146e+01  4.478e+00   7.025 3.75e-09 ***\n",
       "iskurdata                     2.234e-02  8.504e-03   2.628 0.011171 *  \n",
       "exchangerate_data            -3.611e-01  5.736e-02  -6.296 5.70e-08 ***\n",
       "capacityutilization_data     -6.308e-02  4.941e-02  -1.277 0.207205    \n",
       "foodexpenditure_data          9.016e-09  7.512e-09   1.200 0.235276    \n",
       "as.factor(data$month)2       -3.819e-01  4.803e-01  -0.795 0.430017    \n",
       "as.factor(data$month)3       -1.564e+00  5.277e-01  -2.964 0.004510 ** \n",
       "as.factor(data$month)4       -2.039e+00  4.852e-01  -4.202 9.98e-05 ***\n",
       "as.factor(data$month)5       -2.106e+00  4.909e-01  -4.291 7.41e-05 ***\n",
       "as.factor(data$month)6       -1.853e+00  4.823e-01  -3.842 0.000323 ***\n",
       "as.factor(data$month)7       -8.642e-01  4.907e-01  -1.761 0.083881 .  \n",
       "as.factor(data$month)8       -1.144e+00  4.834e-01  -2.367 0.021545 *  \n",
       "as.factor(data$month)9       -1.805e+00  5.015e-01  -3.599 0.000694 ***\n",
       "as.factor(data$month)10      -1.690e+00  4.912e-01  -3.441 0.001126 ** \n",
       "as.factor(data$month)11      -1.770e+00  4.889e-01  -3.620 0.000650 ***\n",
       "as.factor(data$month)12      -1.213e+00  4.919e-01  -2.467 0.016846 *  \n",
       "as.factor(data$covid)1        1.379e+00  3.666e-01   3.761 0.000418 ***\n",
       "consumerconfidenceindex_data -1.554e-01  2.483e-02  -6.261 6.49e-08 ***\n",
       "---\n",
       "Signif. codes:  0 '***' 0.001 '**' 0.01 '*' 0.05 '.' 0.1 ' ' 1\n",
       "\n",
       "Residual standard error: 0.8306 on 54 degrees of freedom\n",
       "Multiple R-squared:  0.7808,\tAdjusted R-squared:  0.7117 \n",
       "F-statistic: 11.31 on 17 and 54 DF,  p-value: 3.08e-12\n"
      ]
     },
     "metadata": {},
     "output_type": "display_data"
    },
    {
     "name": "stdout",
     "output_type": "stream",
     "text": [
      "\n",
      "\tBreusch-Godfrey test for serial correlation of order up to 40\n",
      "\n",
      "data:  Residuals\n",
      "LM test = 67.405, df = 40, p-value = 0.00431\n",
      "\n"
     ]
    },
    {
     "data": {
      "image/png": "[encoded data removed]",
      "text/plain": [
       "plot without title"
      ]
     },
     "metadata": {},
     "output_type": "display_data"
    },
    {
     "data": {
      "image/png": "[encoded data removed]",
      "text/plain": [
       "plot without title"
      ]
     },
     "metadata": {},
     "output_type": "display_data"
    }
   ],
   "source": [
    "fit_final_unem <- lm(unem_data~iskurdata+exchangerate_data+capacityutilization_data+foodexpenditure_data+as.factor(data$month)+as.factor(data$covid)+consumerconfidenceindex_data,data = data)\n",
    "summary(fit_final_unem)\n",
    "checkresiduals(fit_final_unem,40)\n",
    "plot(fit_final_unem$residuals)"
   ]
  },
  {
   "cell_type": "markdown",
   "id": "21fff16d-4c87-4773-ba38-0d8ea4f1b65e",
   "metadata": {},
   "source": [
    "In the final regression model built for the unemployment data, the independent variables \"İşkur Search Volume\", \"Exchange Rate\", \"Capacity Utilization Rate of Manufacturing Industry\", \"Food Expenditure\", \"Seasonality (Monthly)\", \"Consumer Confidence Index\", and \"Covid\" are used. Based on the results, the coefficients of some variables are significant. It can be stated that the exchange rate, covid, consumer confidence index and many of the seasonality variables are significant by looking at the p values. One of the other results of this model is that the R-squared value is 0.71 which is quite reasonable in terms explaining the variance of the original model. When the first models are built their R-squared values are very low compared to the final model. By introducing new variables and combining the existing ones, it is achieved to explain the unemployment rate with independent variables having significant coefficients which means that they are correlated with the target variable. When the residuals are checked, it can be seen that they have randomly distributed and their mean is around 0 which is a good sign for simple linear regression models. The model is not biased in other words. The autocorrelation between the residuals and its lagged values resides between the limits with a few exceptions. It can also be eliminated by introducing new variables or changing some of them but since there are lots of variables added to model, I left as it is. It seemed tolerable in that sense. As the general result of time series regression analysis, it can be said that the consumer confidence index and exchange rate are significant variables that can be used in modelling the unemployment rate. Furthermore, one more point can be discussed. The plot of residuals on the right bottom corner demonstrates that residuals are normally distributed with a mean approximately zero and it implies that the model we built is good at catching the data patterns and there is no biased term."
   ]
  },
  {
   "cell_type": "code",
   "execution_count": null,
   "id": "15c8ecfe-80c7-41c6-9049-a499797a62c6",
   "metadata": {},
   "outputs": [],
   "source": []
  },
  {
   "cell_type": "markdown",
   "id": "eb0d944c-b7fd-4f6e-b3df-39c5174f4ca4",
   "metadata": {},
   "source": [
    "## Airline Expenditures Model\n",
    "1. Part 1 - Data Manipulation and Visualization\n",
    "\n",
    "In this model, it is thought that there might be a relationship between the total debit and credit card transactions on airlines and the vacations abroad. To examine whether there is a relation between the expenditures on airlines and vacations abroad, I looked at the keyword \"yurt dışı tatil\" on Google Trends and plotted its search volume data with the expenditure data on airlines.\n",
    "Here is my research question and the keyword determined.\n",
    "\n",
    "Research Question: Are the debit and credit card expenditures on airlines related to vacations abroad?\n",
    "\n",
    "Keyword: Yurt Dışı Tatil"
   ]
  },
  {
   "cell_type": "code",
   "execution_count": 44,
   "id": "6eadceea-ccfa-4988-8fa8-f4338905861f",
   "metadata": {},
   "outputs": [
    {
     "name": "stdout",
     "output_type": "stream",
     "text": [
      "The correlation between Yurt Disi Tatili search volume data and total expenditure on airlines data: 0.5611278"
     ]
    },
    {
     "data": {
      "image/png": "[encoded data removed]",
      "text/plain": [
       "plot without title"
      ]
     },
     "metadata": {},
     "output_type": "display_data"
    }
   ],
   "source": [
    "yurtdisitatil_excel_data = \"yurtdisitatilsearchvolume.csv\"\n",
    "searchvolumeyurtdisitatil = fread(yurtdisitatil_excel_data)\n",
    "searchvolumeyurtdisitatil$Date = as.Date(paste(searchvolumeyurtdisitatil$Date, \"-01\", sep=\"\"))\n",
    "yurtdisitatildata = searchvolumeyurtdisitatil$YurtdisiTatilSearchVolume\n",
    "cat(\"The correlation between Yurt Disi Tatili search volume data and total expenditure on airlines data:\",cor(yurtdisitatildata,airline_data))\n",
    "plot1 <- ggplot(data, aes(x = date_data, y = airline_data)) + geom_line() + labs(title = \"Airline Data\", x = \"Date\", y = \"Total Debit and Credit Card Number of Transactions on Airlines\")\n",
    "plot2 <- ggplot(data, aes(x = date_data, y = yurtdisitatildata)) + geom_line(color = \"red\") + labs(title = \"Yurt Disi Tatil Search Volume Data\", x = \"Date\", y = \"Search Volume\")\n",
    "grid.arrange(plot1, plot2, ncol = 1)"
   ]
  },
  {
   "cell_type": "markdown",
   "id": "4642804f-07e8-499e-8943-b4b9a5d3c132",
   "metadata": {},
   "source": [
    "Based on the graphs plotted, it is observed that the \"Yurt Disi Tatil Search Volume\" data seems to follow a very similar pattern to airline data. Although some of the jumps and fluctuations match well in the graphs such as the drop in 2020 and fluctuations in 2021, there is a decreasing trend between 2017-2020 in \"Yurt Disi Tatil Search Volume\" data which differs from the airline data. As a result, it can be said that vacations abroad searches are related to airline expenditures and affect it but it's not able to explain the airline expenditure data solely. As opposed to what is expected, it explains some portion of the airline expenditure data."
   ]
  },
  {
   "cell_type": "markdown",
   "id": "c908ecd1-e767-4c0f-9e9b-b5cc1abeaf08",
   "metadata": {},
   "source": [
    "2. Part 2 - Time Series Regression Analysis\n",
    "\n",
    "   In the second part, to find a time series regression model that fits well for the total credit card and debit card transactions on airlines, I employed independent variables: \"Trend\", \"Seasonality (Monthly), \"Visa Search Volume\", \"Yurt Dışı Tatil Search Volume\" and categorical \"Covid\" variable. It is thought that whenever people go abroad, they might need a visa for it and it seems to be a more general case than the search volume of vacation abroad because not everyone goes on vacation when they buy an airplane ticket. \n",
    "It may also be due to other reasons such as work-related,or  family-related situations Again, the same steps are carried out in the time series regression modeling.\n",
    "    ."
   ]
  },
  {
   "cell_type": "code",
   "execution_count": 45,
   "id": "e5a0c8e4-7b87-423d-b86d-9c3d6bc4b3d6",
   "metadata": {},
   "outputs": [
    {
     "data": {
      "text/html": [
       "0.614727811945041"
      ],
      "text/latex": [
       "0.614727811945041"
      ],
      "text/markdown": [
       "0.614727811945041"
      ],
      "text/plain": [
       "[1] 0.6147278"
      ]
     },
     "metadata": {},
     "output_type": "display_data"
    },
    {
     "data": {
      "text/html": [
       "0.447892347813159"
      ],
      "text/latex": [
       "0.447892347813159"
      ],
      "text/markdown": [
       "0.447892347813159"
      ],
      "text/plain": [
       "[1] 0.4478923"
      ]
     },
     "metadata": {},
     "output_type": "display_data"
    }
   ],
   "source": [
    "cor(visadata,airline_data)\n",
    "cor(visadata,yurtdisitatildata)\n"
   ]
  },
  {
   "cell_type": "markdown",
   "id": "f667b88e-fa55-431b-9137-ab79c9dbb884",
   "metadata": {},
   "source": [
    "The correlation between visa search volume data and total debit and credit card transactions on airlines data: 0.614727\n",
    "\n",
    "which is really high correlation as expected."
   ]
  },
  {
   "cell_type": "code",
   "execution_count": 46,
   "id": "d35caabd-f0e7-41d6-8209-ad6a0ec1430b",
   "metadata": {},
   "outputs": [
    {
     "data": {
      "text/plain": [
       "\n",
       "Call:\n",
       "lm(formula = airline_data ~ yurtdisitatildata, data = data)\n",
       "\n",
       "Residuals:\n",
       "     Min       1Q   Median       3Q      Max \n",
       "-1822838  -410776   104866   393647  1195138 \n",
       "\n",
       "Coefficients:\n",
       "                  Estimate Std. Error t value Pr(>|t|)    \n",
       "(Intercept)        1686117     162493  10.377 8.40e-16 ***\n",
       "yurtdisitatildata    18126       3196   5.672 2.94e-07 ***\n",
       "---\n",
       "Signif. codes:  0 '***' 0.001 '**' 0.01 '*' 0.05 '.' 0.1 ' ' 1\n",
       "\n",
       "Residual standard error: 616200 on 70 degrees of freedom\n",
       "Multiple R-squared:  0.3149,\tAdjusted R-squared:  0.3051 \n",
       "F-statistic: 32.17 on 1 and 70 DF,  p-value: 2.942e-07\n"
      ]
     },
     "metadata": {},
     "output_type": "display_data"
    },
    {
     "data": {
      "text/plain": [
       "\n",
       "Call:\n",
       "lm(formula = airline_data ~ visadata + as.factor(month) + trend + \n",
       "    as.factor(covid) + yurtdisitatildata, data = data)\n",
       "\n",
       "Residuals:\n",
       "    Min      1Q  Median      3Q     Max \n",
       "-901998 -267470   19894  268552  639687 \n",
       "\n",
       "Coefficients:\n",
       "                   Estimate Std. Error t value Pr(>|t|)    \n",
       "(Intercept)         1927267     444731   4.334 6.15e-05 ***\n",
       "visadata              10519       7384   1.425   0.1598    \n",
       "as.factor(month)2     12296     232223   0.053   0.9580    \n",
       "as.factor(month)3    452084     229268   1.972   0.0536 .  \n",
       "as.factor(month)4    -53969     236843  -0.228   0.8206    \n",
       "as.factor(month)5     -4959     228107  -0.022   0.9827    \n",
       "as.factor(month)6    255632     231441   1.105   0.2741    \n",
       "as.factor(month)7    385249     248505   1.550   0.1267    \n",
       "as.factor(month)8    373264     229073   1.629   0.1088    \n",
       "as.factor(month)9    491750     233124   2.109   0.0394 *  \n",
       "as.factor(month)10   171161     244195   0.701   0.4863    \n",
       "as.factor(month)11  -180578     319651  -0.565   0.5744    \n",
       "as.factor(month)12   119830     228121   0.525   0.6015    \n",
       "trend                  1468       3891   0.377   0.7074    \n",
       "as.factor(covid)1  -1193510     232858  -5.125 3.81e-06 ***\n",
       "yurtdisitatildata      1203       5128   0.235   0.8153    \n",
       "---\n",
       "Signif. codes:  0 '***' 0.001 '**' 0.01 '*' 0.05 '.' 0.1 ' ' 1\n",
       "\n",
       "Residual standard error: 392100 on 56 degrees of freedom\n",
       "Multiple R-squared:  0.7781,\tAdjusted R-squared:  0.7186 \n",
       "F-statistic: 13.09 on 15 and 56 DF,  p-value: 3.145e-13\n"
      ]
     },
     "metadata": {},
     "output_type": "display_data"
    }
   ],
   "source": [
    "fit1 <- lm(airline_data~yurtdisitatildata,data = data)\n",
    "summary(fit1)\n",
    "fit2 <- lm(airline_data~visadata+as.factor(month)+trend+as.factor(covid)+yurtdisitatildata,data = data)\n",
    "summary(fit2)"
   ]
  },
  {
   "cell_type": "code",
   "execution_count": 47,
   "id": "73d5a194-fd15-4500-b11a-8a567e255c57",
   "metadata": {},
   "outputs": [
    {
     "data": {
      "text/plain": [
       "\n",
       "Call:\n",
       "lm(formula = airline_data ~ visadata + as.factor(month) + as.factor(covid) + \n",
       "    trend, data = data)\n",
       "\n",
       "Residuals:\n",
       "    Min      1Q  Median      3Q     Max \n",
       "-911146 -260093   24748  256146  646660 \n",
       "\n",
       "Coefficients:\n",
       "                     Estimate Std. Error t value Pr(>|t|)    \n",
       "(Intercept)         1974462.6   393361.5   5.019 5.41e-06 ***\n",
       "visadata              11281.1     6576.1   1.715   0.0917 .  \n",
       "as.factor(month)2      5403.6   228441.0   0.024   0.9812    \n",
       "as.factor(month)3    445061.0   225414.6   1.974   0.0532 .  \n",
       "as.factor(month)4    -66766.4   228562.1  -0.292   0.7713    \n",
       "as.factor(month)5      -307.2   225352.4  -0.001   0.9989    \n",
       "as.factor(month)6    266560.8   224821.1   1.186   0.2407    \n",
       "as.factor(month)7    408959.9   225148.4   1.816   0.0746 .  \n",
       "as.factor(month)8    369057.9   226469.9   1.630   0.1087    \n",
       "as.factor(month)9    486261.0   230017.6   2.114   0.0389 *  \n",
       "as.factor(month)10   150599.6   226037.9   0.666   0.5079    \n",
       "as.factor(month)11  -208456.1   294288.6  -0.708   0.4816    \n",
       "as.factor(month)12   121718.6   226081.0   0.538   0.5924    \n",
       "as.factor(covid)1  -1207401.2   223334.5  -5.406 1.32e-06 ***\n",
       "trend                   751.7     2393.8   0.314   0.7546    \n",
       "---\n",
       "Signif. codes:  0 '***' 0.001 '**' 0.01 '*' 0.05 '.' 0.1 ' ' 1\n",
       "\n",
       "Residual standard error: 388800 on 57 degrees of freedom\n",
       "Multiple R-squared:  0.7779,\tAdjusted R-squared:  0.7233 \n",
       "F-statistic: 14.26 on 14 and 57 DF,  p-value: 8.306e-14\n"
      ]
     },
     "metadata": {},
     "output_type": "display_data"
    },
    {
     "name": "stdout",
     "output_type": "stream",
     "text": [
      "\n",
      "\tBreusch-Godfrey test for serial correlation of order up to 18\n",
      "\n",
      "data:  Residuals\n",
      "LM test = 26.316, df = 18, p-value = 0.09274\n",
      "\n"
     ]
    },
    {
     "data": {
      "image/png": "[encoded data removed]",
      "text/plain": [
       "plot without title"
      ]
     },
     "metadata": {},
     "output_type": "display_data"
    },
    {
     "data": {
      "image/png": "[encoded data removed]",
      "text/plain": [
       "plot without title"
      ]
     },
     "metadata": {},
     "output_type": "display_data"
    }
   ],
   "source": [
    "fit_airline <- lm(airline_data~visadata+as.factor(month)+as.factor(covid)+trend,data = data)\n",
    "summary(fit_airline)\n",
    "checkresiduals(fit_airline)\n",
    "plot(fit_airline$residuals)"
   ]
  },
  {
   "cell_type": "markdown",
   "id": "bf065624-565d-44a0-bd3d-5d630bf02df4",
   "metadata": {},
   "source": [
    "In the final regression model built for the total debit and credit card transactions on airline data, the independent variables \"Visa Search Volume\", \"Seasonality (Monthly)\", \"Covid\" and \"Trend\" are used. By looking the R-squared value which is 0.72, it can be said that the predictor variables explain the variance of the dependent variable to some extent. Since there is collinearity between Visa Search Volume data and Yurt Disi Tatil data, in the regression model selected for the airline expenditures model, Yurt Disi Tatil data is excluded to avoid multicollinearity problems. To put it another way, to observe the effect of the predictor Visa Search Volume, the Yurt Disi Tatil Search Volume is not added. If we look at the p values, it can reached that only the coefficient of covid variable is significant. Although there is high correlation between visa data and airline data, the coefficent of visa variable is not significant that much. It has low significance. The F statistic value larger than the critical value in this model indicates the statistically significance of regression model. On the residuals side, it can be said that residuals do not follow any specific pattern and their mean is located near to 0. One of the residuals observed at the beginning of Covid time, is very high but apart from that residuals have desired properties. When the autocorrelation between residuals and their lagged values is evaluated, it is achieved that the only lags that has  autocorrelation higher than the limit are the 4th and 13th lag. However, they are a little beyond the limit so that it can be ignored. Moreover, the residual plot looks like normally distributed which does not violate the simple linear regression settings. Overall, the model built seems to be reasonable enough to explain the target variable so that I did not add any other variable."
   ]
  },
  {
   "cell_type": "markdown",
   "id": "2f3777cc-b589-4830-ae74-5fdad4a1320b",
   "metadata": {},
   "source": [
    "## Total Newly Established Firms Model\n",
    "1. Part 1 - Data Manipulation and Visualization\n",
    "\n",
    "In this model, it is considered that entrepreneurship support initiatives or such incentives would affect the total number of newly established firms and new entrepreneurs.\n",
    "\n",
    "Research Question: Can entrepreneurial grants be the driving force behind new entrepreneurs and newly established firms?\n",
    "\n",
    "Keyword: Girişimci Desteği"
   ]
  },
  {
   "cell_type": "code",
   "execution_count": 48,
   "id": "25ef48bd-329f-4bfd-a0e4-501393b71fc3",
   "metadata": {},
   "outputs": [
    {
     "name": "stdout",
     "output_type": "stream",
     "text": [
      "The correlation between Girisimci Destegi search volume data and total newly established firms data: 0.7298033"
     ]
    },
    {
     "data": {
      "image/png": "[encoded data removed]",
      "text/plain": [
       "plot without title"
      ]
     },
     "metadata": {},
     "output_type": "display_data"
    }
   ],
   "source": [
    "girisimcidestegi_excel_data = \"girisimcidestegisearchvolume.csv\"\n",
    "searchvolumegirisimcidestegi = fread(girisimcidestegi_excel_data)\n",
    "searchvolumegirisimcidestegi$Date = as.Date(paste(searchvolumegirisimcidestegi$Date, \"-01\", sep=\"\"))\n",
    "girisimcidata = searchvolumegirisimcidestegi$GirisimciDestegiSearchVolume\n",
    "cat(\"The correlation between Girisimci Destegi search volume data and total newly established firms data:\",cor(girisimcidata ,newfirm_data))\n",
    "plot1 <- ggplot(data, aes(x = date_data, y = newfirm_data)) + geom_line() + labs(title = \"Newly Established Firm Data\", x = \"Date\", y = \"Total Number of Firms Newly Established\")\n",
    "plot2 <- ggplot(data, aes(x = date_data, y = girisimcidata)) + geom_line(color = \"red\") + labs(title = \"Girisimci Destegi Search Volume Data\", x = \"Date\", y = \"Search Volume\")\n",
    "grid.arrange(plot1, plot2, ncol = 1)"
   ]
  },
  {
   "cell_type": "markdown",
   "id": "de2d2a77-4bd5-474c-9cde-ae16fe0b410a",
   "metadata": {},
   "source": [
    "Based on the correlation between the data, and the pattern on the graphs, it can be said that total number of newly established firms and entrepreneurial grants are significantly related. It can be seen that the general pattern of the graphs match and also the jumps and downs in 2020 are similar to each other. Other than that, the significant (high) up and downs in 2022 in the newly established firms graph do not match with the entrepreneurial grant search volume data but it can be considered as an extreme case and it can be ignored while interpreting the relation between entrepreneurial grant and newly established firm data since the covid period takes place in 2022. Therefore, it can be deduced that those two data are closely related."
   ]
  },
  {
   "cell_type": "markdown",
   "id": "2c7aa197-b2b8-4851-8807-058281b0390d",
   "metadata": {},
   "source": [
    "2. Part 2 - Time Series Regression Analysis\n",
    "\n",
    "   In the second part, I used independent variables: \"Trend\", \"Seasonality (Monthly), \"Exchange Rate\", Girisimci Destegi Search Volume\", \"Consumer Confidence Index\" and categorical \"Covid\" variables. I thought that the Consumer Confidence Index might have an impact on newly established firms since it somehow represents the consumer's tendency to spend money or invest in something. When the Consumer Confidence Index is low, it is expected that newly established firms are lower. Other than that, I also considered the exchange rate as one of the independent variables because today the idea of ​​​​establishing a new enterprise can be interpreted as an international expansion. Therefore, the exchange rate might affect the entrepreneurs' decisions. Again, the same steps are carried out in the time series regression modeling."
   ]
  },
  {
   "cell_type": "code",
   "execution_count": 49,
   "id": "4551ea1f-d3d4-4dd7-8455-0fd80ef62695",
   "metadata": {},
   "outputs": [
    {
     "data": {
      "text/html": [
       "0.736233087147107"
      ],
      "text/latex": [
       "0.736233087147107"
      ],
      "text/markdown": [
       "0.736233087147107"
      ],
      "text/plain": [
       "[1] 0.7362331"
      ]
     },
     "metadata": {},
     "output_type": "display_data"
    },
    {
     "data": {
      "text/html": [
       "-0.517981348891872"
      ],
      "text/latex": [
       "-0.517981348891872"
      ],
      "text/markdown": [
       "-0.517981348891872"
      ],
      "text/plain": [
       "[1] -0.5179813"
      ]
     },
     "metadata": {},
     "output_type": "display_data"
    }
   ],
   "source": [
    "cor(exchangerate_data,newfirm_data)\n",
    "cor(consumerconfidenceindex_data,newfirm_data)"
   ]
  },
  {
   "cell_type": "markdown",
   "id": "438b0c3b-0b36-4fb7-8101-aae0b2707c53",
   "metadata": {},
   "source": [
    "The correlation between exchange rate data and total newly established firms data: 0.736233\r\n",
    "\r\n",
    "The correlation betweeconsumer confidence indexre data antotal newly established firmste data: -517983117807"
   ]
  },
  {
   "cell_type": "code",
   "execution_count": 50,
   "id": "3df1cb15-d291-404e-9b82-a96b79ef9c04",
   "metadata": {},
   "outputs": [
    {
     "data": {
      "text/plain": [
       "\n",
       "Call:\n",
       "lm(formula = newfirm_data ~ trend, data = data)\n",
       "\n",
       "Residuals:\n",
       "    Min      1Q  Median      3Q     Max \n",
       "-5775.5  -696.3   126.5   963.0  3877.4 \n",
       "\n",
       "Coefficients:\n",
       "            Estimate Std. Error t value Pr(>|t|)    \n",
       "(Intercept) 5237.110    417.652  12.539  < 2e-16 ***\n",
       "trend         85.409      9.944   8.589  1.5e-12 ***\n",
       "---\n",
       "Signif. codes:  0 '***' 0.001 '**' 0.01 '*' 0.05 '.' 0.1 ' ' 1\n",
       "\n",
       "Residual standard error: 1754 on 70 degrees of freedom\n",
       "Multiple R-squared:  0.5131,\tAdjusted R-squared:  0.5062 \n",
       "F-statistic: 73.78 on 1 and 70 DF,  p-value: 1.502e-12\n"
      ]
     },
     "metadata": {},
     "output_type": "display_data"
    },
    {
     "data": {
      "text/plain": [
       "\n",
       "Call:\n",
       "lm(formula = newfirm_data ~ trend + as.factor(month) + girisimcidata, \n",
       "    data = data)\n",
       "\n",
       "Residuals:\n",
       "    Min      1Q  Median      3Q     Max \n",
       "-3914.9  -847.3  -111.1   876.6  3375.8 \n",
       "\n",
       "Coefficients:\n",
       "                   Estimate Std. Error t value Pr(>|t|)    \n",
       "(Intercept)         6717.31     724.74   9.269 4.79e-13 ***\n",
       "trend                 42.53      20.92   2.033 0.046649 *  \n",
       "as.factor(month)2  -1827.86     934.88  -1.955 0.055387 .  \n",
       "as.factor(month)3  -1175.15     929.14  -1.265 0.211009    \n",
       "as.factor(month)4  -2140.21     943.01  -2.270 0.026969 *  \n",
       "as.factor(month)5  -3451.54     929.84  -3.712 0.000463 ***\n",
       "as.factor(month)6  -1642.30     934.79  -1.757 0.084219 .  \n",
       "as.factor(month)7  -2327.81     939.52  -2.478 0.016159 *  \n",
       "as.factor(month)8  -1777.78     946.84  -1.878 0.065466 .  \n",
       "as.factor(month)9  -1171.88     936.86  -1.251 0.216009    \n",
       "as.factor(month)10 -1242.57     932.69  -1.332 0.187989    \n",
       "as.factor(month)11 -1108.56     944.08  -1.174 0.245104    \n",
       "as.factor(month)12 -1394.95     937.30  -1.488 0.142099    \n",
       "girisimcidata         46.62      20.07   2.323 0.023702 *  \n",
       "---\n",
       "Signif. codes:  0 '***' 0.001 '**' 0.01 '*' 0.05 '.' 0.1 ' ' 1\n",
       "\n",
       "Residual standard error: 1609 on 58 degrees of freedom\n",
       "Multiple R-squared:  0.6604,\tAdjusted R-squared:  0.5843 \n",
       "F-statistic: 8.675 on 13 and 58 DF,  p-value: 1.927e-09\n"
      ]
     },
     "metadata": {},
     "output_type": "display_data"
    },
    {
     "data": {
      "text/plain": [
       "\n",
       "Call:\n",
       "lm(formula = newfirm_data ~ trend + as.factor(month) + girisimcidata + \n",
       "    exchangerate_data, data = data)\n",
       "\n",
       "Residuals:\n",
       "    Min      1Q  Median      3Q     Max \n",
       "-4217.9  -716.9   -22.8   863.5  3310.7 \n",
       "\n",
       "Coefficients:\n",
       "                   Estimate Std. Error t value Pr(>|t|)    \n",
       "(Intercept)         6667.59     705.71   9.448 2.89e-13 ***\n",
       "trend                 26.78      21.75   1.231 0.223301    \n",
       "as.factor(month)2  -1640.18     914.36  -1.794 0.078150 .  \n",
       "as.factor(month)3  -1169.13     904.22  -1.293 0.201239    \n",
       "as.factor(month)4  -2352.47     923.48  -2.547 0.013576 *  \n",
       "as.factor(month)5  -3504.19     905.26  -3.871 0.000282 ***\n",
       "as.factor(month)6  -1804.19     913.11  -1.976 0.053017 .  \n",
       "as.factor(month)7  -2514.16     918.79  -2.736 0.008268 ** \n",
       "as.factor(month)8  -2043.06     930.40  -2.196 0.032184 *  \n",
       "as.factor(month)9  -1344.12     915.56  -1.468 0.147579    \n",
       "as.factor(month)10 -1274.14     907.80  -1.404 0.165879    \n",
       "as.factor(month)11 -1339.94     925.60  -1.448 0.153194    \n",
       "as.factor(month)12 -1597.26     917.43  -1.741 0.087078 .  \n",
       "girisimcidata         20.26      23.35   0.868 0.389258    \n",
       "exchangerate_data    218.06     105.88   2.059 0.044034 *  \n",
       "---\n",
       "Signif. codes:  0 '***' 0.001 '**' 0.01 '*' 0.05 '.' 0.1 ' ' 1\n",
       "\n",
       "Residual standard error: 1566 on 57 degrees of freedom\n",
       "Multiple R-squared:  0.6839,\tAdjusted R-squared:  0.6063 \n",
       "F-statistic: 8.809 on 14 and 57 DF,  p-value: 9.267e-10\n"
      ]
     },
     "metadata": {},
     "output_type": "display_data"
    }
   ],
   "source": [
    "fit3_1 <- lm(newfirm_data~`trend`,data = data)\n",
    "summary(fit3_1)\n",
    "fit3_2 <- lm(newfirm_data~trend+as.factor(month)+girisimcidata,data = data)\n",
    "summary(fit3_2)\n",
    "fit3_3 <- lm(newfirm_data~trend+as.factor(month)+girisimcidata+exchangerate_data,data = data)\n",
    "summary(fit3_3)\n"
   ]
  },
  {
   "cell_type": "code",
   "execution_count": 51,
   "id": "4257b242-6b4a-4ed2-bc22-31667a16f68d",
   "metadata": {},
   "outputs": [
    {
     "data": {
      "text/plain": [
       "\n",
       "Call:\n",
       "lm(formula = newfirm_data ~ trend + as.factor(month) + exchangerate_data + \n",
       "    consumerconfidenceindex_data + girisimcidata + data$year, \n",
       "    data = data)\n",
       "\n",
       "Residuals:\n",
       "    Min      1Q  Median      3Q     Max \n",
       "-4199.7  -525.2    42.3   682.3  2959.1 \n",
       "\n",
       "Coefficients: (1 not defined because of singularities)\n",
       "                              Estimate Std. Error t value Pr(>|t|)    \n",
       "(Intercept)                  -6049.217   4375.700  -1.382 0.172320    \n",
       "trend                           65.017     24.212   2.685 0.009515 ** \n",
       "as.factor(month)2            -1464.635    860.671  -1.702 0.094351 .  \n",
       "as.factor(month)3            -1383.299    852.194  -1.623 0.110159    \n",
       "as.factor(month)4            -2515.351    868.931  -2.895 0.005400 ** \n",
       "as.factor(month)5            -3527.860    850.089  -4.150 0.000114 ***\n",
       "as.factor(month)6            -1985.664    859.642  -2.310 0.024605 *  \n",
       "as.factor(month)7            -2857.869    870.638  -3.283 0.001776 ** \n",
       "as.factor(month)8            -2392.193    881.690  -2.713 0.008838 ** \n",
       "as.factor(month)9            -1489.956    861.152  -1.730 0.089105 .  \n",
       "as.factor(month)10           -1251.297    852.471  -1.468 0.147740    \n",
       "as.factor(month)11           -1418.245    869.559  -1.631 0.108504    \n",
       "as.factor(month)12           -1558.431    861.583  -1.809 0.075852 .  \n",
       "exchangerate_data              322.866    105.624   3.057 0.003426 ** \n",
       "consumerconfidenceindex_data   138.452     47.090   2.940 0.004761 ** \n",
       "girisimcidata                    1.476     22.839   0.065 0.948688    \n",
       "data$year                           NA         NA      NA       NA    \n",
       "---\n",
       "Signif. codes:  0 '***' 0.001 '**' 0.01 '*' 0.05 '.' 0.1 ' ' 1\n",
       "\n",
       "Residual standard error: 1470 on 56 degrees of freedom\n",
       "Multiple R-squared:  0.7262,\tAdjusted R-squared:  0.6528 \n",
       "F-statistic:   9.9 on 15 and 56 DF,  p-value: 7.387e-11\n"
      ]
     },
     "metadata": {},
     "output_type": "display_data"
    },
    {
     "name": "stdout",
     "output_type": "stream",
     "text": [
      "\n",
      "\tBreusch-Godfrey test for serial correlation of order up to 20\n",
      "\n",
      "data:  Residuals\n",
      "LM test = 31.215, df = 20, p-value = 0.05242\n",
      "\n"
     ]
    },
    {
     "data": {
      "image/png": "[encoded data removed]",
      "text/plain": [
       "plot without title"
      ]
     },
     "metadata": {},
     "output_type": "display_data"
    },
    {
     "data": {
      "image/png": "[encoded data removed]",
      "text/plain": [
       "plot without title"
      ]
     },
     "metadata": {},
     "output_type": "display_data"
    }
   ],
   "source": [
    "fit_newfirm <- lm(newfirm_data~trend+as.factor(month)+exchangerate_data+consumerconfidenceindex_data+girisimcidata+data$year,data = data)\n",
    "summary(fit_newfirm)\n",
    "checkresiduals(fit_newfirm)\n",
    "plot(fit_newfirm$residuals)"
   ]
  },
  {
   "cell_type": "markdown",
   "id": "2b643406-3a94-4c9a-a727-6723cdaa3722",
   "metadata": {},
   "source": [
    "In the final regression model of newly established firms, the predictors \"Trend\", \"Seasonality (Monthly)\", \"Exchange Rate\", \"Consumer Confidence Index\", and \"Entrepreneurial Grant\" are used. The R-squared value of the model is equal to 0.65 which might be evaluated as a good result to predict the variance of the target (newly established firms) variables. When the first models are built, it is seen that R-squared values are very low like 0.13 and 0.21. However, after adding the consumer confidence index variable, a drastic change occurred in the R-squared value. Based on this, it is achieved that although it seems to be a complicated relationship, the consumer confidence index is closely related to newly established firm data. Without diving deep into this relationship, it can be said that when there is a more comfortable atmosphere that facilitates consumer spending and makes them feel more secure, business owners or entrepreneurs are affected in a good way because of the higher demand for products and services. On the other side, if we look at the p values, it can be said that the exchange rate and consumer confidence index have a little significant coefficient that may indicate these variables are able to explain some portion of the change in the target variable. However, as opposed to the expectations, the entrepreneurial grant variable does not have a significant coefficient. It is a sign that not every variable highly correlated with the target variable would be effective in explaining the target variable. Therefore, a high correlation does not mean a good predictor for the regression model every time. According to the residual plot, it can be seen that there are some outliers but when they are excluded, the residuals have low variance that does not change over time and their mean is close to 0 which is a desired outcome in regression models. Apart from that, the autocorrelations between the residuals and their lagged values are very low and are within the desired range except for the 4th lag. It is a little bit beyond the range so it does not pose a problem. With this information and observing that the residuals are normally distributed, this model seems to perform fine in explaining the target variable. "
   ]
  },
  {
   "cell_type": "markdown",
   "id": "29b2e96a-32d9-4781-bc2a-15ac3b3cfea8",
   "metadata": {},
   "source": [
    "# Conclusion\n",
    "In a nutshell, three different time series data are selected from CBRT and their correlation/relation with some other time series data is analyzed. In order to build a time regression model for each CBRT data, relevant data are added to the models as independent variables. Besides, seasonality and trend variables are included in the models. After analyzing various regression models for each data, one of the regression models presenting high R-squared value, low p values and low residual values (errors) is selected. In addition, the variance and mean of the residuals are evaluated and, autocorrelation between the lagged values of the residuals. As a result, three regression models whose residuals are not autocorrelated and have a mean zero are built. The independent variables used in these models are found to be related to the target variable and some of them have significant coefficients which means there is a relationship between them and the target variable by checking the p-values.\n"
   ]
  },
  {
   "cell_type": "code",
   "execution_count": null,
   "id": "94d9d0f9-2955-4ed9-960b-68d00ae6a186",
   "metadata": {},
   "outputs": [],
   "source": []
  }
 ],
 "metadata": {
  "kernelspec": {
   "display_name": "R",
   "language": "R",
   "name": "ir"
  },
  "language_info": {
   "codemirror_mode": "r",
   "file_extension": ".r",
   "mimetype": "text/x-r-source",
   "name": "R",
   "pygments_lexer": "r",
   "version": "3.6.1"
  }
 },
 "nbformat": 4,
 "nbformat_minor": 5
}
